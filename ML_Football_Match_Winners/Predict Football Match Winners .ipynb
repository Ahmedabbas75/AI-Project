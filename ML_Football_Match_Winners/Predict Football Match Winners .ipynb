{
 "cells": [
  {
   "cell_type": "code",
   "execution_count": 1,
   "id": "ee36965c",
   "metadata": {},
   "outputs": [],
   "source": [
    "import pandas as pd\n",
    "import numpy as np"
   ]
  },
  {
   "cell_type": "code",
   "execution_count": 2,
   "id": "54b3a6bb",
   "metadata": {},
   "outputs": [],
   "source": [
    "match_data = pd.read_csv(\"matches.csv\",index_col= 0)"
   ]
  },
  {
   "cell_type": "code",
   "execution_count": 3,
   "id": "ef9e52c7",
   "metadata": {},
   "outputs": [
    {
     "data": {
      "text/html": [
       "<div>\n",
       "<style scoped>\n",
       "    .dataframe tbody tr th:only-of-type {\n",
       "        vertical-align: middle;\n",
       "    }\n",
       "\n",
       "    .dataframe tbody tr th {\n",
       "        vertical-align: top;\n",
       "    }\n",
       "\n",
       "    .dataframe thead th {\n",
       "        text-align: right;\n",
       "    }\n",
       "</style>\n",
       "<table border=\"1\" class=\"dataframe\">\n",
       "  <thead>\n",
       "    <tr style=\"text-align: right;\">\n",
       "      <th></th>\n",
       "      <th>date</th>\n",
       "      <th>time</th>\n",
       "      <th>comp</th>\n",
       "      <th>round</th>\n",
       "      <th>day</th>\n",
       "      <th>venue</th>\n",
       "      <th>result</th>\n",
       "      <th>gf</th>\n",
       "      <th>ga</th>\n",
       "      <th>opponent</th>\n",
       "      <th>...</th>\n",
       "      <th>match report</th>\n",
       "      <th>notes</th>\n",
       "      <th>sh</th>\n",
       "      <th>sot</th>\n",
       "      <th>dist</th>\n",
       "      <th>fk</th>\n",
       "      <th>pk</th>\n",
       "      <th>pkatt</th>\n",
       "      <th>season</th>\n",
       "      <th>team</th>\n",
       "    </tr>\n",
       "  </thead>\n",
       "  <tbody>\n",
       "    <tr>\n",
       "      <th>1</th>\n",
       "      <td>2021-08-15</td>\n",
       "      <td>16:30</td>\n",
       "      <td>Premier League</td>\n",
       "      <td>Matchweek 1</td>\n",
       "      <td>Sun</td>\n",
       "      <td>Away</td>\n",
       "      <td>L</td>\n",
       "      <td>0.0</td>\n",
       "      <td>1.0</td>\n",
       "      <td>Tottenham</td>\n",
       "      <td>...</td>\n",
       "      <td>Match Report</td>\n",
       "      <td>NaN</td>\n",
       "      <td>18.0</td>\n",
       "      <td>4.0</td>\n",
       "      <td>16.9</td>\n",
       "      <td>1.0</td>\n",
       "      <td>0.0</td>\n",
       "      <td>0.0</td>\n",
       "      <td>2022</td>\n",
       "      <td>Manchester City</td>\n",
       "    </tr>\n",
       "    <tr>\n",
       "      <th>2</th>\n",
       "      <td>2021-08-21</td>\n",
       "      <td>15:00</td>\n",
       "      <td>Premier League</td>\n",
       "      <td>Matchweek 2</td>\n",
       "      <td>Sat</td>\n",
       "      <td>Home</td>\n",
       "      <td>W</td>\n",
       "      <td>5.0</td>\n",
       "      <td>0.0</td>\n",
       "      <td>Norwich City</td>\n",
       "      <td>...</td>\n",
       "      <td>Match Report</td>\n",
       "      <td>NaN</td>\n",
       "      <td>16.0</td>\n",
       "      <td>4.0</td>\n",
       "      <td>17.3</td>\n",
       "      <td>1.0</td>\n",
       "      <td>0.0</td>\n",
       "      <td>0.0</td>\n",
       "      <td>2022</td>\n",
       "      <td>Manchester City</td>\n",
       "    </tr>\n",
       "    <tr>\n",
       "      <th>3</th>\n",
       "      <td>2021-08-28</td>\n",
       "      <td>12:30</td>\n",
       "      <td>Premier League</td>\n",
       "      <td>Matchweek 3</td>\n",
       "      <td>Sat</td>\n",
       "      <td>Home</td>\n",
       "      <td>W</td>\n",
       "      <td>5.0</td>\n",
       "      <td>0.0</td>\n",
       "      <td>Arsenal</td>\n",
       "      <td>...</td>\n",
       "      <td>Match Report</td>\n",
       "      <td>NaN</td>\n",
       "      <td>25.0</td>\n",
       "      <td>10.0</td>\n",
       "      <td>14.3</td>\n",
       "      <td>0.0</td>\n",
       "      <td>0.0</td>\n",
       "      <td>0.0</td>\n",
       "      <td>2022</td>\n",
       "      <td>Manchester City</td>\n",
       "    </tr>\n",
       "    <tr>\n",
       "      <th>4</th>\n",
       "      <td>2021-09-11</td>\n",
       "      <td>15:00</td>\n",
       "      <td>Premier League</td>\n",
       "      <td>Matchweek 4</td>\n",
       "      <td>Sat</td>\n",
       "      <td>Away</td>\n",
       "      <td>W</td>\n",
       "      <td>1.0</td>\n",
       "      <td>0.0</td>\n",
       "      <td>Leicester City</td>\n",
       "      <td>...</td>\n",
       "      <td>Match Report</td>\n",
       "      <td>NaN</td>\n",
       "      <td>25.0</td>\n",
       "      <td>8.0</td>\n",
       "      <td>14.0</td>\n",
       "      <td>0.0</td>\n",
       "      <td>0.0</td>\n",
       "      <td>0.0</td>\n",
       "      <td>2022</td>\n",
       "      <td>Manchester City</td>\n",
       "    </tr>\n",
       "    <tr>\n",
       "      <th>6</th>\n",
       "      <td>2021-09-18</td>\n",
       "      <td>15:00</td>\n",
       "      <td>Premier League</td>\n",
       "      <td>Matchweek 5</td>\n",
       "      <td>Sat</td>\n",
       "      <td>Home</td>\n",
       "      <td>D</td>\n",
       "      <td>0.0</td>\n",
       "      <td>0.0</td>\n",
       "      <td>Southampton</td>\n",
       "      <td>...</td>\n",
       "      <td>Match Report</td>\n",
       "      <td>NaN</td>\n",
       "      <td>16.0</td>\n",
       "      <td>1.0</td>\n",
       "      <td>15.7</td>\n",
       "      <td>1.0</td>\n",
       "      <td>0.0</td>\n",
       "      <td>0.0</td>\n",
       "      <td>2022</td>\n",
       "      <td>Manchester City</td>\n",
       "    </tr>\n",
       "  </tbody>\n",
       "</table>\n",
       "<p>5 rows × 27 columns</p>\n",
       "</div>"
      ],
      "text/plain": [
       "         date   time            comp        round  day venue result   gf   ga  \\\n",
       "1  2021-08-15  16:30  Premier League  Matchweek 1  Sun  Away      L  0.0  1.0   \n",
       "2  2021-08-21  15:00  Premier League  Matchweek 2  Sat  Home      W  5.0  0.0   \n",
       "3  2021-08-28  12:30  Premier League  Matchweek 3  Sat  Home      W  5.0  0.0   \n",
       "4  2021-09-11  15:00  Premier League  Matchweek 4  Sat  Away      W  1.0  0.0   \n",
       "6  2021-09-18  15:00  Premier League  Matchweek 5  Sat  Home      D  0.0  0.0   \n",
       "\n",
       "         opponent  ...  match report  notes    sh   sot  dist   fk   pk pkatt  \\\n",
       "1       Tottenham  ...  Match Report    NaN  18.0   4.0  16.9  1.0  0.0   0.0   \n",
       "2    Norwich City  ...  Match Report    NaN  16.0   4.0  17.3  1.0  0.0   0.0   \n",
       "3         Arsenal  ...  Match Report    NaN  25.0  10.0  14.3  0.0  0.0   0.0   \n",
       "4  Leicester City  ...  Match Report    NaN  25.0   8.0  14.0  0.0  0.0   0.0   \n",
       "6     Southampton  ...  Match Report    NaN  16.0   1.0  15.7  1.0  0.0   0.0   \n",
       "\n",
       "   season             team  \n",
       "1    2022  Manchester City  \n",
       "2    2022  Manchester City  \n",
       "3    2022  Manchester City  \n",
       "4    2022  Manchester City  \n",
       "6    2022  Manchester City  \n",
       "\n",
       "[5 rows x 27 columns]"
      ]
     },
     "execution_count": 3,
     "metadata": {},
     "output_type": "execute_result"
    }
   ],
   "source": [
    "match_data.head()"
   ]
  },
  {
   "cell_type": "code",
   "execution_count": 4,
   "id": "59520aae",
   "metadata": {},
   "outputs": [
    {
     "data": {
      "text/html": [
       "<div>\n",
       "<style scoped>\n",
       "    .dataframe tbody tr th:only-of-type {\n",
       "        vertical-align: middle;\n",
       "    }\n",
       "\n",
       "    .dataframe tbody tr th {\n",
       "        vertical-align: top;\n",
       "    }\n",
       "\n",
       "    .dataframe thead th {\n",
       "        text-align: right;\n",
       "    }\n",
       "</style>\n",
       "<table border=\"1\" class=\"dataframe\">\n",
       "  <thead>\n",
       "    <tr style=\"text-align: right;\">\n",
       "      <th></th>\n",
       "      <th>date</th>\n",
       "      <th>time</th>\n",
       "      <th>comp</th>\n",
       "      <th>round</th>\n",
       "      <th>day</th>\n",
       "      <th>venue</th>\n",
       "      <th>result</th>\n",
       "      <th>gf</th>\n",
       "      <th>ga</th>\n",
       "      <th>opponent</th>\n",
       "      <th>...</th>\n",
       "      <th>match report</th>\n",
       "      <th>notes</th>\n",
       "      <th>sh</th>\n",
       "      <th>sot</th>\n",
       "      <th>dist</th>\n",
       "      <th>fk</th>\n",
       "      <th>pk</th>\n",
       "      <th>pkatt</th>\n",
       "      <th>season</th>\n",
       "      <th>team</th>\n",
       "    </tr>\n",
       "  </thead>\n",
       "  <tbody>\n",
       "    <tr>\n",
       "      <th>38</th>\n",
       "      <td>2021-05-02</td>\n",
       "      <td>19:15</td>\n",
       "      <td>Premier League</td>\n",
       "      <td>Matchweek 34</td>\n",
       "      <td>Sun</td>\n",
       "      <td>Away</td>\n",
       "      <td>L</td>\n",
       "      <td>0.0</td>\n",
       "      <td>4.0</td>\n",
       "      <td>Tottenham</td>\n",
       "      <td>...</td>\n",
       "      <td>Match Report</td>\n",
       "      <td>NaN</td>\n",
       "      <td>8.0</td>\n",
       "      <td>1.0</td>\n",
       "      <td>17.4</td>\n",
       "      <td>0.0</td>\n",
       "      <td>0.0</td>\n",
       "      <td>0.0</td>\n",
       "      <td>2021</td>\n",
       "      <td>Sheffield United</td>\n",
       "    </tr>\n",
       "    <tr>\n",
       "      <th>39</th>\n",
       "      <td>2021-05-08</td>\n",
       "      <td>15:00</td>\n",
       "      <td>Premier League</td>\n",
       "      <td>Matchweek 35</td>\n",
       "      <td>Sat</td>\n",
       "      <td>Home</td>\n",
       "      <td>L</td>\n",
       "      <td>0.0</td>\n",
       "      <td>2.0</td>\n",
       "      <td>Crystal Palace</td>\n",
       "      <td>...</td>\n",
       "      <td>Match Report</td>\n",
       "      <td>NaN</td>\n",
       "      <td>7.0</td>\n",
       "      <td>0.0</td>\n",
       "      <td>11.4</td>\n",
       "      <td>1.0</td>\n",
       "      <td>0.0</td>\n",
       "      <td>0.0</td>\n",
       "      <td>2021</td>\n",
       "      <td>Sheffield United</td>\n",
       "    </tr>\n",
       "    <tr>\n",
       "      <th>40</th>\n",
       "      <td>2021-05-16</td>\n",
       "      <td>19:00</td>\n",
       "      <td>Premier League</td>\n",
       "      <td>Matchweek 36</td>\n",
       "      <td>Sun</td>\n",
       "      <td>Away</td>\n",
       "      <td>W</td>\n",
       "      <td>1.0</td>\n",
       "      <td>0.0</td>\n",
       "      <td>Everton</td>\n",
       "      <td>...</td>\n",
       "      <td>Match Report</td>\n",
       "      <td>NaN</td>\n",
       "      <td>10.0</td>\n",
       "      <td>3.0</td>\n",
       "      <td>17.0</td>\n",
       "      <td>0.0</td>\n",
       "      <td>0.0</td>\n",
       "      <td>0.0</td>\n",
       "      <td>2021</td>\n",
       "      <td>Sheffield United</td>\n",
       "    </tr>\n",
       "    <tr>\n",
       "      <th>41</th>\n",
       "      <td>2021-05-19</td>\n",
       "      <td>18:00</td>\n",
       "      <td>Premier League</td>\n",
       "      <td>Matchweek 37</td>\n",
       "      <td>Wed</td>\n",
       "      <td>Away</td>\n",
       "      <td>L</td>\n",
       "      <td>0.0</td>\n",
       "      <td>1.0</td>\n",
       "      <td>Newcastle Utd</td>\n",
       "      <td>...</td>\n",
       "      <td>Match Report</td>\n",
       "      <td>NaN</td>\n",
       "      <td>11.0</td>\n",
       "      <td>1.0</td>\n",
       "      <td>16.0</td>\n",
       "      <td>1.0</td>\n",
       "      <td>0.0</td>\n",
       "      <td>0.0</td>\n",
       "      <td>2021</td>\n",
       "      <td>Sheffield United</td>\n",
       "    </tr>\n",
       "    <tr>\n",
       "      <th>42</th>\n",
       "      <td>2021-05-23</td>\n",
       "      <td>16:00</td>\n",
       "      <td>Premier League</td>\n",
       "      <td>Matchweek 38</td>\n",
       "      <td>Sun</td>\n",
       "      <td>Home</td>\n",
       "      <td>W</td>\n",
       "      <td>1.0</td>\n",
       "      <td>0.0</td>\n",
       "      <td>Burnley</td>\n",
       "      <td>...</td>\n",
       "      <td>Match Report</td>\n",
       "      <td>NaN</td>\n",
       "      <td>12.0</td>\n",
       "      <td>3.0</td>\n",
       "      <td>17.0</td>\n",
       "      <td>0.0</td>\n",
       "      <td>0.0</td>\n",
       "      <td>0.0</td>\n",
       "      <td>2021</td>\n",
       "      <td>Sheffield United</td>\n",
       "    </tr>\n",
       "  </tbody>\n",
       "</table>\n",
       "<p>5 rows × 27 columns</p>\n",
       "</div>"
      ],
      "text/plain": [
       "          date   time            comp         round  day venue result   gf  \\\n",
       "38  2021-05-02  19:15  Premier League  Matchweek 34  Sun  Away      L  0.0   \n",
       "39  2021-05-08  15:00  Premier League  Matchweek 35  Sat  Home      L  0.0   \n",
       "40  2021-05-16  19:00  Premier League  Matchweek 36  Sun  Away      W  1.0   \n",
       "41  2021-05-19  18:00  Premier League  Matchweek 37  Wed  Away      L  0.0   \n",
       "42  2021-05-23  16:00  Premier League  Matchweek 38  Sun  Home      W  1.0   \n",
       "\n",
       "     ga        opponent  ...  match report  notes    sh  sot  dist   fk   pk  \\\n",
       "38  4.0       Tottenham  ...  Match Report    NaN   8.0  1.0  17.4  0.0  0.0   \n",
       "39  2.0  Crystal Palace  ...  Match Report    NaN   7.0  0.0  11.4  1.0  0.0   \n",
       "40  0.0         Everton  ...  Match Report    NaN  10.0  3.0  17.0  0.0  0.0   \n",
       "41  1.0   Newcastle Utd  ...  Match Report    NaN  11.0  1.0  16.0  1.0  0.0   \n",
       "42  0.0         Burnley  ...  Match Report    NaN  12.0  3.0  17.0  0.0  0.0   \n",
       "\n",
       "   pkatt  season              team  \n",
       "38   0.0    2021  Sheffield United  \n",
       "39   0.0    2021  Sheffield United  \n",
       "40   0.0    2021  Sheffield United  \n",
       "41   0.0    2021  Sheffield United  \n",
       "42   0.0    2021  Sheffield United  \n",
       "\n",
       "[5 rows x 27 columns]"
      ]
     },
     "execution_count": 4,
     "metadata": {},
     "output_type": "execute_result"
    }
   ],
   "source": [
    "match_data.tail()"
   ]
  },
  {
   "cell_type": "code",
   "execution_count": 5,
   "id": "4f63798f",
   "metadata": {},
   "outputs": [
    {
     "data": {
      "text/plain": [
       "(1389, 27)"
      ]
     },
     "execution_count": 5,
     "metadata": {},
     "output_type": "execute_result"
    }
   ],
   "source": [
    "match_data.shape"
   ]
  },
  {
   "cell_type": "code",
   "execution_count": 6,
   "id": "507d02e8",
   "metadata": {},
   "outputs": [
    {
     "name": "stdout",
     "output_type": "stream",
     "text": [
      "number of matchs in two season is 1520\n"
     ]
    }
   ],
   "source": [
    "# عندنا 38 ماتش ف الموسم وكمان عدد الفرق المشاركه بيكون 20 فريق وانا من بصتى للداتا شوفت اننا عندنا موسمين 2022 و2021   \n",
    "number_match = 38 * 20 * 2\n",
    "print(f\"number of matchs in two season is {number_match}\")"
   ]
  },
  {
   "cell_type": "code",
   "execution_count": 7,
   "id": "cec76ce6",
   "metadata": {},
   "outputs": [
    {
     "name": "stdout",
     "output_type": "stream",
     "text": [
      "<class 'pandas.core.frame.DataFrame'>\n",
      "Int64Index: 1389 entries, 1 to 42\n",
      "Data columns (total 27 columns):\n",
      " #   Column        Non-Null Count  Dtype  \n",
      "---  ------        --------------  -----  \n",
      " 0   date          1389 non-null   object \n",
      " 1   time          1389 non-null   object \n",
      " 2   comp          1389 non-null   object \n",
      " 3   round         1389 non-null   object \n",
      " 4   day           1389 non-null   object \n",
      " 5   venue         1389 non-null   object \n",
      " 6   result        1389 non-null   object \n",
      " 7   gf            1389 non-null   float64\n",
      " 8   ga            1389 non-null   float64\n",
      " 9   opponent      1389 non-null   object \n",
      " 10  xg            1389 non-null   float64\n",
      " 11  xga           1389 non-null   float64\n",
      " 12  poss          1389 non-null   float64\n",
      " 13  attendance    693 non-null    float64\n",
      " 14  captain       1389 non-null   object \n",
      " 15  formation     1389 non-null   object \n",
      " 16  referee       1389 non-null   object \n",
      " 17  match report  1389 non-null   object \n",
      " 18  notes         0 non-null      float64\n",
      " 19  sh            1389 non-null   float64\n",
      " 20  sot           1389 non-null   float64\n",
      " 21  dist          1388 non-null   float64\n",
      " 22  fk            1389 non-null   float64\n",
      " 23  pk            1389 non-null   float64\n",
      " 24  pkatt         1389 non-null   float64\n",
      " 25  season        1389 non-null   int64  \n",
      " 26  team          1389 non-null   object \n",
      "dtypes: float64(13), int64(1), object(13)\n",
      "memory usage: 303.8+ KB\n"
     ]
    }
   ],
   "source": [
    "match_data.info()"
   ]
  },
  {
   "cell_type": "code",
   "execution_count": 11,
   "id": "76215cba",
   "metadata": {},
   "outputs": [
    {
     "data": {
      "text/plain": [
       "Matchweek 1     39\n",
       "Matchweek 16    39\n",
       "Matchweek 34    39\n",
       "Matchweek 32    39\n",
       "Matchweek 31    39\n",
       "Matchweek 29    39\n",
       "Matchweek 28    39\n",
       "Matchweek 26    39\n",
       "Matchweek 25    39\n",
       "Matchweek 24    39\n",
       "Matchweek 23    39\n",
       "Matchweek 2     39\n",
       "Matchweek 19    39\n",
       "Matchweek 17    39\n",
       "Matchweek 20    39\n",
       "Matchweek 15    39\n",
       "Matchweek 5     39\n",
       "Matchweek 3     39\n",
       "Matchweek 13    39\n",
       "Matchweek 12    39\n",
       "Matchweek 4     39\n",
       "Matchweek 11    39\n",
       "Matchweek 10    39\n",
       "Matchweek 9     39\n",
       "Matchweek 8     39\n",
       "Matchweek 14    39\n",
       "Matchweek 7     39\n",
       "Matchweek 6     39\n",
       "Matchweek 30    37\n",
       "Matchweek 27    37\n",
       "Matchweek 22    37\n",
       "Matchweek 21    37\n",
       "Matchweek 18    37\n",
       "Matchweek 33    32\n",
       "Matchweek 35    20\n",
       "Matchweek 36    20\n",
       "Matchweek 37    20\n",
       "Matchweek 38    20\n",
       "Name: round, dtype: int64"
      ]
     },
     "execution_count": 11,
     "metadata": {},
     "output_type": "execute_result"
    }
   ],
   "source": [
    "# we should have 39 match every team \n",
    "match_data[\"round\"].value_counts()"
   ]
  },
  {
   "cell_type": "markdown",
   "id": "eb34883e",
   "metadata": {},
   "source": [
    "## cleaning data"
   ]
  },
  {
   "cell_type": "code",
   "execution_count": 12,
   "id": "84d8296b",
   "metadata": {},
   "outputs": [],
   "source": [
    "# convert date column from object to Numerical \n",
    "match_data[\"date\"] = pd.to_datetime(match_data[\"date\"])"
   ]
  },
  {
   "cell_type": "code",
   "execution_count": 52,
   "id": "065f9b2f",
   "metadata": {},
   "outputs": [],
   "source": [
    "# add new column as Numerical datatype refer opponent object ------> every team have unique code\n",
    "match_data[\"opponent_code\"] = match_data[\"opponent\"].astype(\"category\").cat.codes"
   ]
  },
  {
   "cell_type": "code",
   "execution_count": 33,
   "id": "ee2f6d39",
   "metadata": {},
   "outputs": [],
   "source": [
    "# add new column as Numerical datatype refer venue object ------> Home :1, Away : 0\n",
    "match_data[\"venue_code\"] = match_data[\"venue\"].astype(\"category\").cat.codes"
   ]
  },
  {
   "cell_type": "code",
   "execution_count": 34,
   "id": "4938b178",
   "metadata": {},
   "outputs": [],
   "source": [
    "# convert time columns to hour only without minutes\n",
    "match_data[\"hour\"] = match_data[\"time\"].str.replace(\":.+\", \"\", regex=True).astype(\"int\")"
   ]
  },
  {
   "cell_type": "code",
   "execution_count": 35,
   "id": "020c5ec1",
   "metadata": {},
   "outputs": [],
   "source": [
    "# convert day name to Numerical number start monday----> 0,....\n",
    "match_data[\"day_code\"] = match_data[\"date\"].dt.dayofweek"
   ]
  },
  {
   "cell_type": "code",
   "execution_count": 36,
   "id": "f981da92",
   "metadata": {},
   "outputs": [],
   "source": [
    "# convert result column to Numerical (loss,drow_-----> 0 and win----> 1\n",
    "match_data[\"target\"] = (match_data[\"result\"] == \"W\").astype(\"int\")"
   ]
  },
  {
   "cell_type": "code",
   "execution_count": 38,
   "id": "2d2540ca",
   "metadata": {},
   "outputs": [],
   "source": [
    "# drop same columns\n",
    "match_data.drop(columns= [\"notes\",\"match report\",\"captain\"],inplace= True)"
   ]
  },
  {
   "cell_type": "markdown",
   "id": "1b6ea1f5",
   "metadata": {},
   "source": [
    "## Target of my Model (Team Won or Not)"
   ]
  },
  {
   "cell_type": "code",
   "execution_count": 39,
   "id": "a11f9698",
   "metadata": {},
   "outputs": [],
   "source": [
    "# RandomForestClassifier is type of machine learning modelpic up non-linear data  \n",
    "from sklearn.ensemble import RandomForestClassifier"
   ]
  },
  {
   "cell_type": "code",
   "execution_count": 40,
   "id": "47c1b722",
   "metadata": {},
   "outputs": [],
   "source": [
    "# create object \n",
    "model = RandomForestClassifier(n_estimators = 50, min_samples_split = 10, random_state = 1)"
   ]
  },
  {
   "cell_type": "code",
   "execution_count": 41,
   "id": "e6e9d820",
   "metadata": {},
   "outputs": [],
   "source": [
    "# train model \n",
    "train = match_data[match_data[\"date\"] < '2022-01-01'] "
   ]
  },
  {
   "cell_type": "code",
   "execution_count": 42,
   "id": "f6a3538d",
   "metadata": {},
   "outputs": [],
   "source": [
    "test = match_data[match_data[\"date\"] > '2022-01-01']"
   ]
  },
  {
   "cell_type": "code",
   "execution_count": 54,
   "id": "a518bf3a",
   "metadata": {},
   "outputs": [],
   "source": [
    "predictors = [\"venue_code\", \"opponent_code\", \"hour\", \"day_code\"] # as axis "
   ]
  },
  {
   "cell_type": "code",
   "execution_count": 55,
   "id": "f43b86e5",
   "metadata": {},
   "outputs": [
    {
     "data": {
      "text/html": [
       "<style>#sk-container-id-1 {color: black;background-color: white;}#sk-container-id-1 pre{padding: 0;}#sk-container-id-1 div.sk-toggleable {background-color: white;}#sk-container-id-1 label.sk-toggleable__label {cursor: pointer;display: block;width: 100%;margin-bottom: 0;padding: 0.3em;box-sizing: border-box;text-align: center;}#sk-container-id-1 label.sk-toggleable__label-arrow:before {content: \"▸\";float: left;margin-right: 0.25em;color: #696969;}#sk-container-id-1 label.sk-toggleable__label-arrow:hover:before {color: black;}#sk-container-id-1 div.sk-estimator:hover label.sk-toggleable__label-arrow:before {color: black;}#sk-container-id-1 div.sk-toggleable__content {max-height: 0;max-width: 0;overflow: hidden;text-align: left;background-color: #f0f8ff;}#sk-container-id-1 div.sk-toggleable__content pre {margin: 0.2em;color: black;border-radius: 0.25em;background-color: #f0f8ff;}#sk-container-id-1 input.sk-toggleable__control:checked~div.sk-toggleable__content {max-height: 200px;max-width: 100%;overflow: auto;}#sk-container-id-1 input.sk-toggleable__control:checked~label.sk-toggleable__label-arrow:before {content: \"▾\";}#sk-container-id-1 div.sk-estimator input.sk-toggleable__control:checked~label.sk-toggleable__label {background-color: #d4ebff;}#sk-container-id-1 div.sk-label input.sk-toggleable__control:checked~label.sk-toggleable__label {background-color: #d4ebff;}#sk-container-id-1 input.sk-hidden--visually {border: 0;clip: rect(1px 1px 1px 1px);clip: rect(1px, 1px, 1px, 1px);height: 1px;margin: -1px;overflow: hidden;padding: 0;position: absolute;width: 1px;}#sk-container-id-1 div.sk-estimator {font-family: monospace;background-color: #f0f8ff;border: 1px dotted black;border-radius: 0.25em;box-sizing: border-box;margin-bottom: 0.5em;}#sk-container-id-1 div.sk-estimator:hover {background-color: #d4ebff;}#sk-container-id-1 div.sk-parallel-item::after {content: \"\";width: 100%;border-bottom: 1px solid gray;flex-grow: 1;}#sk-container-id-1 div.sk-label:hover label.sk-toggleable__label {background-color: #d4ebff;}#sk-container-id-1 div.sk-serial::before {content: \"\";position: absolute;border-left: 1px solid gray;box-sizing: border-box;top: 0;bottom: 0;left: 50%;z-index: 0;}#sk-container-id-1 div.sk-serial {display: flex;flex-direction: column;align-items: center;background-color: white;padding-right: 0.2em;padding-left: 0.2em;position: relative;}#sk-container-id-1 div.sk-item {position: relative;z-index: 1;}#sk-container-id-1 div.sk-parallel {display: flex;align-items: stretch;justify-content: center;background-color: white;position: relative;}#sk-container-id-1 div.sk-item::before, #sk-container-id-1 div.sk-parallel-item::before {content: \"\";position: absolute;border-left: 1px solid gray;box-sizing: border-box;top: 0;bottom: 0;left: 50%;z-index: -1;}#sk-container-id-1 div.sk-parallel-item {display: flex;flex-direction: column;z-index: 1;position: relative;background-color: white;}#sk-container-id-1 div.sk-parallel-item:first-child::after {align-self: flex-end;width: 50%;}#sk-container-id-1 div.sk-parallel-item:last-child::after {align-self: flex-start;width: 50%;}#sk-container-id-1 div.sk-parallel-item:only-child::after {width: 0;}#sk-container-id-1 div.sk-dashed-wrapped {border: 1px dashed gray;margin: 0 0.4em 0.5em 0.4em;box-sizing: border-box;padding-bottom: 0.4em;background-color: white;}#sk-container-id-1 div.sk-label label {font-family: monospace;font-weight: bold;display: inline-block;line-height: 1.2em;}#sk-container-id-1 div.sk-label-container {text-align: center;}#sk-container-id-1 div.sk-container {/* jupyter's `normalize.less` sets `[hidden] { display: none; }` but bootstrap.min.css set `[hidden] { display: none !important; }` so we also need the `!important` here to be able to override the default hidden behavior on the sphinx rendered scikit-learn.org. See: https://github.com/scikit-learn/scikit-learn/issues/21755 */display: inline-block !important;position: relative;}#sk-container-id-1 div.sk-text-repr-fallback {display: none;}</style><div id=\"sk-container-id-1\" class=\"sk-top-container\"><div class=\"sk-text-repr-fallback\"><pre>RandomForestClassifier(min_samples_split=10, n_estimators=50, random_state=1)</pre><b>In a Jupyter environment, please rerun this cell to show the HTML representation or trust the notebook. <br />On GitHub, the HTML representation is unable to render, please try loading this page with nbviewer.org.</b></div><div class=\"sk-container\" hidden><div class=\"sk-item\"><div class=\"sk-estimator sk-toggleable\"><input class=\"sk-toggleable__control sk-hidden--visually\" id=\"sk-estimator-id-1\" type=\"checkbox\" checked><label for=\"sk-estimator-id-1\" class=\"sk-toggleable__label sk-toggleable__label-arrow\">RandomForestClassifier</label><div class=\"sk-toggleable__content\"><pre>RandomForestClassifier(min_samples_split=10, n_estimators=50, random_state=1)</pre></div></div></div></div></div>"
      ],
      "text/plain": [
       "RandomForestClassifier(min_samples_split=10, n_estimators=50, random_state=1)"
      ]
     },
     "execution_count": 55,
     "metadata": {},
     "output_type": "execute_result"
    }
   ],
   "source": [
    "model.fit(train[predictors], train[\"target\"])"
   ]
  },
  {
   "cell_type": "code",
   "execution_count": 56,
   "id": "7adf9685",
   "metadata": {},
   "outputs": [],
   "source": [
    "prediction = model.predict(test[predictors])"
   ]
  },
  {
   "cell_type": "markdown",
   "id": "e6cb4d84",
   "metadata": {},
   "source": [
    "## determine the accuracy of model"
   ]
  },
  {
   "cell_type": "code",
   "execution_count": 57,
   "id": "7e88b048",
   "metadata": {},
   "outputs": [],
   "source": [
    "from sklearn.metrics import accuracy_score, confusion_matrix"
   ]
  },
  {
   "cell_type": "code",
   "execution_count": 58,
   "id": "87178a13",
   "metadata": {},
   "outputs": [],
   "source": [
    "Y = test[\"target\"]\n",
    "accurcy = accuracy_score(Y, prediction)\n",
    "cf_matrix = confusion_matrix(Y, prediction)"
   ]
  },
  {
   "cell_type": "code",
   "execution_count": 59,
   "id": "37297e65",
   "metadata": {},
   "outputs": [
    {
     "data": {
      "text/plain": [
       "0.6123188405797102"
      ]
     },
     "execution_count": 59,
     "metadata": {},
     "output_type": "execute_result"
    }
   ],
   "source": [
    "# show precentage of accurate \n",
    "accurcy"
   ]
  },
  {
   "cell_type": "code",
   "execution_count": 63,
   "id": "7bca8293",
   "metadata": {},
   "outputs": [
    {
     "data": {
      "text/html": [
       "<div>\n",
       "<style scoped>\n",
       "    .dataframe tbody tr th:only-of-type {\n",
       "        vertical-align: middle;\n",
       "    }\n",
       "\n",
       "    .dataframe tbody tr th {\n",
       "        vertical-align: top;\n",
       "    }\n",
       "\n",
       "    .dataframe thead th {\n",
       "        text-align: right;\n",
       "    }\n",
       "</style>\n",
       "<table border=\"1\" class=\"dataframe\">\n",
       "  <thead>\n",
       "    <tr style=\"text-align: right;\">\n",
       "      <th></th>\n",
       "      <th>actual</th>\n",
       "      <th>predicted</th>\n",
       "    </tr>\n",
       "  </thead>\n",
       "  <tbody>\n",
       "    <tr>\n",
       "      <th>31</th>\n",
       "      <td>1</td>\n",
       "      <td>0</td>\n",
       "    </tr>\n",
       "    <tr>\n",
       "      <th>32</th>\n",
       "      <td>0</td>\n",
       "      <td>0</td>\n",
       "    </tr>\n",
       "    <tr>\n",
       "      <th>34</th>\n",
       "      <td>1</td>\n",
       "      <td>0</td>\n",
       "    </tr>\n",
       "    <tr>\n",
       "      <th>35</th>\n",
       "      <td>1</td>\n",
       "      <td>1</td>\n",
       "    </tr>\n",
       "    <tr>\n",
       "      <th>37</th>\n",
       "      <td>0</td>\n",
       "      <td>1</td>\n",
       "    </tr>\n",
       "    <tr>\n",
       "      <th>...</th>\n",
       "      <td>...</td>\n",
       "      <td>...</td>\n",
       "    </tr>\n",
       "    <tr>\n",
       "      <th>33</th>\n",
       "      <td>0</td>\n",
       "      <td>0</td>\n",
       "    </tr>\n",
       "    <tr>\n",
       "      <th>34</th>\n",
       "      <td>0</td>\n",
       "      <td>0</td>\n",
       "    </tr>\n",
       "    <tr>\n",
       "      <th>35</th>\n",
       "      <td>1</td>\n",
       "      <td>0</td>\n",
       "    </tr>\n",
       "    <tr>\n",
       "      <th>36</th>\n",
       "      <td>0</td>\n",
       "      <td>0</td>\n",
       "    </tr>\n",
       "    <tr>\n",
       "      <th>37</th>\n",
       "      <td>0</td>\n",
       "      <td>1</td>\n",
       "    </tr>\n",
       "  </tbody>\n",
       "</table>\n",
       "<p>276 rows × 2 columns</p>\n",
       "</div>"
      ],
      "text/plain": [
       "    actual  predicted\n",
       "31       1          0\n",
       "32       0          0\n",
       "34       1          0\n",
       "35       1          1\n",
       "37       0          1\n",
       "..     ...        ...\n",
       "33       0          0\n",
       "34       0          0\n",
       "35       1          0\n",
       "36       0          0\n",
       "37       0          1\n",
       "\n",
       "[276 rows x 2 columns]"
      ]
     },
     "execution_count": 63,
     "metadata": {},
     "output_type": "execute_result"
    }
   ],
   "source": [
    "# combine acual value with predicted value\n",
    "combined = pd.DataFrame(dict(actual=test[\"target\"], predicted = prediction))\n",
    "combined"
   ]
  },
  {
   "cell_type": "code",
   "execution_count": 64,
   "id": "9d6c2f37",
   "metadata": {},
   "outputs": [
    {
     "data": {
      "text/plain": [
       "<Axes: >"
      ]
     },
     "execution_count": 64,
     "metadata": {},
     "output_type": "execute_result"
    },
    {
     "data": {
      "image/png": "[encoded data removed]",
      "text/plain": [
       "<Figure size 640x480 with 2 Axes>"
      ]
     },
     "metadata": {},
     "output_type": "display_data"
    }
   ],
   "source": [
    "import seaborn as sns\n",
    "sns.heatmap(cf_matrix, annot=True)"
   ]
  },
  {
   "cell_type": "code",
   "execution_count": null,
   "id": "7c46e932",
   "metadata": {},
   "outputs": [],
   "source": []
  }
 ],
 "metadata": {
  "kernelspec": {
   "display_name": "Python 3 (ipykernel)",
   "language": "python",
   "name": "python3"
  },
  "language_info": {
   "codemirror_mode": {
    "name": "ipython",
    "version": 3
   },
   "file_extension": ".py",
   "mimetype": "text/x-python",
   "name": "python",
   "nbconvert_exporter": "python",
   "pygments_lexer": "ipython3",
   "version": "3.10.9"
  }
 },
 "nbformat": 4,
 "nbformat_minor": 5
}
